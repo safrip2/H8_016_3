{
 "cells": [
  {
   "cell_type": "markdown",
   "metadata": {},
   "source": [
    "# Introduction: Basic Syntax, Data Type, and Variable"
   ]
  },
  {
   "cell_type": "markdown",
   "metadata": {},
   "source": [
    "terdapat beberapa jenis tipe data dasar: **String, Number,** dan **Boolean** dan tipe data advance: **List, Slicing, Tuple, Set, dan Dictionary**"
   ]
  },
  {
   "cell_type": "markdown",
   "metadata": {},
   "source": [
    "---"
   ]
  },
  {
   "cell_type": "markdown",
   "metadata": {},
   "source": [
    "## Numbers\n",
    "\n",
    "1. integer\n",
    "2. float\n",
    "3. complex\n"
   ]
  },
  {
   "cell_type": "code",
   "execution_count": 23,
   "metadata": {},
   "outputs": [
    {
     "name": "stdout",
     "output_type": "stream",
     "text": [
      "tipe data untuk variabel a adalah <class 'int'>\n",
      "tipe data untuk variabel b adalah <class 'float'>\n",
      "tipe data untuk variabel c adalah <class 'complex'>\n"
     ]
    }
   ],
   "source": [
    "#integer\n",
    "a = 10\n",
    "print(f\"tipe data untuk variabel a adalah {type(a)}\")\n",
    "\n",
    "# float\n",
    "b = 1.5\n",
    "print(f\"tipe data untuk variabel b adalah {type(b)}\")\n",
    "\n",
    "# complex\n",
    "c = 1+2j #x + yj, yakni bagian x adalah bilangan real dan y adalah bilangan imajiner\n",
    "print(f\"tipe data untuk variabel c adalah {type(c)}\")"
   ]
  },
  {
   "cell_type": "markdown",
   "metadata": {},
   "source": [
    "## String"
   ]
  },
  {
   "cell_type": "code",
   "execution_count": 24,
   "metadata": {},
   "outputs": [
    {
     "name": "stdout",
     "output_type": "stream",
     "text": [
      "tipe data untuk variabel s adalah <class 'str'>\n"
     ]
    }
   ],
   "source": [
    "s = \"Ini adalah string baris tunggal\"\n",
    "s = \"\"\"string baris\n",
    "banyak baris\"\"\"\n",
    "print(f\"tipe data untuk variabel s adalah {type(s)}\")"
   ]
  },
  {
   "cell_type": "markdown",
   "metadata": {},
   "source": [
    "## Boolean"
   ]
  },
  {
   "cell_type": "code",
   "execution_count": 25,
   "metadata": {},
   "outputs": [
    {
     "name": "stdout",
     "output_type": "stream",
     "text": [
      "<class 'bool'>\n"
     ]
    }
   ],
   "source": [
    "d = True\n",
    "e = False\n",
    "print(type(d))\n"
   ]
  },
  {
   "cell_type": "markdown",
   "metadata": {},
   "source": [
    "## List\n",
    "list adalah variabel yang berisi beberapa nilai yang berbeda-beda, Serupa, namun tak sama dengan array pada bahasa pemrograman lainnya. List pada Python tidak harus memiliki tipe data yang sama."
   ]
  },
  {
   "cell_type": "code",
   "execution_count": 26,
   "metadata": {},
   "outputs": [
    {
     "name": "stdout",
     "output_type": "stream",
     "text": [
      "nan\n",
      "perja\n",
      "ej\n",
      "n\n"
     ]
    }
   ],
   "source": [
    "f = [1,2,3,4,5, \"Python\", True, False]\n",
    "\n",
    "x = \"perjalanan\"\n",
    "print(x[-3:]) #menampilkan 3 karakter terakhir dari variabel x\n",
    "print(x[:5]) #menampilkan 5 karakter pertama dari variabel x\n",
    "print(x[1:5:2]) #menampilkan index 1 hingga sebelum index 5, dengan \"step\" 2\n",
    "print(x[-1]) #menampilkan karakter terakhir dari variabel x"
   ]
  },
  {
   "cell_type": "markdown",
   "metadata": {},
   "source": [
    "> ### Memodifikasi List\n",
    "> - mengedit isi list\n",
    "> - menambah isi list\n",
    "> - menghapus isi list"
   ]
  },
  {
   "cell_type": "code",
   "execution_count": 27,
   "metadata": {},
   "outputs": [
    {
     "name": "stdout",
     "output_type": "stream",
     "text": [
      "[1, 2, 4]\n",
      "[1, 2, 4, 5]\n",
      "[1, 2, 6, 4, 5]\n",
      "[1, 2, 4]\n"
     ]
    }
   ],
   "source": [
    "#mengedit isi\n",
    "y = [1,2,3]\n",
    "y[2]=4\n",
    "print(y)\n",
    "\n",
    "# menambah isi\n",
    "y.append(5)\n",
    "print(y)\n",
    "\n",
    "y.insert(2,6)\n",
    "print(y)\n",
    "\n",
    "# menghapus isi\n",
    "y.remove(5) #menghapus isi yang berisi 5\n",
    "del y[2]    #menghapus isi pada index ke 2\n",
    "print(y)"
   ]
  },
  {
   "cell_type": "markdown",
   "metadata": {},
   "source": [
    "## Tuple\n",
    "Tuple adalah jenis dari list yang tidak dapat diubah elemennya. Umumnya tuple digunakan untuk data yang bersifat sekali tulis, dan dapat dieksekusi lebih cepat."
   ]
  },
  {
   "cell_type": "code",
   "execution_count": 28,
   "metadata": {},
   "outputs": [
    {
     "name": "stdout",
     "output_type": "stream",
     "text": [
      "(1, 2, 'makan')\n",
      "2\n"
     ]
    }
   ],
   "source": [
    "t = (1,2,\"makan\",4,1+3j)\n",
    "print(t[0:3])\n",
    "print(t[1])\n"
   ]
  },
  {
   "cell_type": "markdown",
   "metadata": {},
   "source": [
    "## Set\n",
    "kumpulan item bersifat unik dan tanpa urutan (unordered collection). Didefinisikan dengan kurawal dan elemennya dipisahkan dengan koma. Pada Set kita dapat melakukan union dan intersection, sekaligus otomatis melakukan penghapusan data duplikat."
   ]
  },
  {
   "cell_type": "code",
   "execution_count": 31,
   "metadata": {},
   "outputs": [
    {
     "name": "stdout",
     "output_type": "stream",
     "text": [
      "set a: {1, 2, 3, 4, 5}\n",
      "set b: {4, 5, 6, 7, 8}\n",
      "set union a b: {1, 2, 3, 4, 5, 6, 7, 8}\n",
      "set intersection a b: {4, 5}\n",
      "set difference a b: {1, 2, 3}\n",
      "set symmetric difference a b: {1, 2, 3, 6, 7, 8}\n",
      "a-m adalah: {1, 2, 3}\n"
     ]
    }
   ],
   "source": [
    "a = {1,2,3,4,5}\n",
    "b = {4,5,6,7,8}\n",
    "print(f\"set a: {a}\")\n",
    "print(f\"set b: {b}\")\n",
    "print(f\"set union a b: {a.union(b)}\")\n",
    "print(f\"set intersection a b: {a.intersection(b)}\")\n",
    "print(f\"set difference a b: {a.difference(b)}\")\n",
    "print(f\"set symmetric difference a b: {a.symmetric_difference(b)}\")\n",
    "print(f\"a-m adalah: {a-a.intersection(b)}\")"
   ]
  },
  {
   "cell_type": "markdown",
   "metadata": {},
   "source": [
    "> *Karena **set** bersifat unordered, maka kita tidak bisa mengambil sebagian data / elemen datanya menggunakan proses slicing*"
   ]
  },
  {
   "cell_type": "code",
   "execution_count": 32,
   "metadata": {},
   "outputs": [
    {
     "ename": "TypeError",
     "evalue": "'set' object is not subscriptable",
     "output_type": "error",
     "traceback": [
      "\u001b[1;31m---------------------------------------------------------------------------\u001b[0m",
      "\u001b[1;31mTypeError\u001b[0m                                 Traceback (most recent call last)",
      "\u001b[1;32m~\\AppData\\Local\\Temp/ipykernel_1232/1273059520.py\u001b[0m in \u001b[0;36m<module>\u001b[1;34m\u001b[0m\n\u001b[0;32m      1\u001b[0m \u001b[0ma\u001b[0m \u001b[1;33m=\u001b[0m \u001b[1;33m{\u001b[0m\u001b[1;36m1\u001b[0m\u001b[1;33m,\u001b[0m\u001b[1;36m2\u001b[0m\u001b[1;33m,\u001b[0m\u001b[1;36m3\u001b[0m\u001b[1;33m}\u001b[0m\u001b[1;33m\u001b[0m\u001b[1;33m\u001b[0m\u001b[0m\n\u001b[1;32m----> 2\u001b[1;33m \u001b[0mprint\u001b[0m\u001b[1;33m(\u001b[0m\u001b[0ma\u001b[0m\u001b[1;33m[\u001b[0m\u001b[1;36m1\u001b[0m\u001b[1;33m]\u001b[0m\u001b[1;33m)\u001b[0m\u001b[1;33m\u001b[0m\u001b[1;33m\u001b[0m\u001b[0m\n\u001b[0m",
      "\u001b[1;31mTypeError\u001b[0m: 'set' object is not subscriptable"
     ]
    }
   ],
   "source": [
    "a = {1,2,3}\n",
    "print(a[1])"
   ]
  },
  {
   "cell_type": "markdown",
   "metadata": {},
   "source": [
    "## Dictionary\n",
    "kumpulan pasangan kunci-nilai (pair of key-value) yang bersifat tidak berurutan. Dictionary dapat digunakan untuk menyimpan data kecil hingga besar. Untuk mengakses datanya, kita harus mengetahui kuncinya (key).\n",
    "> 1. Setiap elemen pair key-value dipisahkan dengan koma (,).\n",
    "> 2. Key dan Value dipisahkan dengan titik dua (:).\n",
    "> 3. Key dan Value dapat berupa tipe variabel/obyek apapun."
   ]
  },
  {
   "cell_type": "code",
   "execution_count": 1,
   "metadata": {},
   "outputs": [
    {
     "name": "stdout",
     "output_type": "stream",
     "text": [
      "Andi\n"
     ]
    }
   ],
   "source": [
    "ab = {'key':'value', 'key2':'value2'}\n",
    "a = {\"nama\":\"Andi\", \"umur\":20, \"alamat\":\"Jl.Kaliurang\"}\n",
    "print(a[\"nama\"])"
   ]
  },
  {
   "cell_type": "code",
   "execution_count": 3,
   "metadata": {},
   "outputs": [
    {
     "name": "stdout",
     "output_type": "stream",
     "text": [
      "Collecting scikit-learn\n",
      "  Downloading scikit_learn-1.1.2-cp39-cp39-win_amd64.whl (7.4 MB)\n",
      "     ---------------------------------------- 7.4/7.4 MB 3.7 MB/s eta 0:00:00\n",
      "Requirement already satisfied: numpy>=1.17.3 in c:\\users\\dell\\appdata\\local\\programs\\python\\python39\\lib\\site-packages (from scikit-learn) (1.20.2)\n",
      "Collecting scipy>=1.3.2\n",
      "  Downloading scipy-1.9.0-cp39-cp39-win_amd64.whl (38.6 MB)\n",
      "     ---------------------------------------- 38.6/38.6 MB 3.9 MB/s eta 0:00:00\n",
      "Collecting threadpoolctl>=2.0.0\n",
      "  Downloading threadpoolctl-3.1.0-py3-none-any.whl (14 kB)\n",
      "Collecting joblib>=1.0.0\n",
      "  Downloading joblib-1.1.0-py2.py3-none-any.whl (306 kB)\n",
      "     -------------------------------------- 307.0/307.0 kB 3.8 MB/s eta 0:00:00\n",
      "Installing collected packages: threadpoolctl, scipy, joblib, scikit-learn\n",
      "Successfully installed joblib-1.1.0 scikit-learn-1.1.2 scipy-1.9.0 threadpoolctl-3.1.0\n"
     ]
    }
   ],
   "source": [
    "!pip3 install -U scikit-learn"
   ]
  },
  {
   "cell_type": "code",
   "execution_count": 5,
   "metadata": {},
   "outputs": [
    {
     "name": "stdout",
     "output_type": "stream",
     "text": [
      "   A  B  C\n",
      "0  1  2  3\n",
      "1  4  5  6\n",
      "2  7  8  9\n"
     ]
    }
   ],
   "source": [
    "import pandas as pd\n",
    "import numpy as np\n",
    "data = pd.DataFrame(data=np.array([[1,2,3],[4,5,6],[7,8,9]]), columns=[\"A\",\"B\",\"C\"])\n",
    "print(data)"
   ]
  },
  {
   "cell_type": "code",
   "execution_count": 1,
   "metadata": {},
   "outputs": [
    {
     "name": "stdout",
     "output_type": "stream",
     "text": [
      "hello world\n"
     ]
    }
   ],
   "source": [
    "print(\"hello world\")"
   ]
  }
 ],
 "metadata": {
  "kernelspec": {
   "display_name": "Python 3.9.0 64-bit",
   "language": "python",
   "name": "python3"
  },
  "language_info": {
   "codemirror_mode": {
    "name": "ipython",
    "version": 3
   },
   "file_extension": ".py",
   "mimetype": "text/x-python",
   "name": "python",
   "nbconvert_exporter": "python",
   "pygments_lexer": "ipython3",
   "version": "3.9.0"
  },
  "orig_nbformat": 4,
  "vscode": {
   "interpreter": {
    "hash": "5addf786bcd861d1ce5006f23111f8cbb206731e5b61b0a5632ba9e0252558a8"
   }
  }
 },
 "nbformat": 4,
 "nbformat_minor": 2
}
