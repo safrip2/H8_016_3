{
 "cells": [
  {
   "cell_type": "markdown",
   "metadata": {},
   "source": [
    "## Loops"
   ]
  },
  {
   "cell_type": "markdown",
   "metadata": {},
   "source": [
    "### For Loops\n",
    "> perulangan pada setiap jenis variabel berupa kumpulan atau urutan. (list, string, ataupun range. \n",
    ">> Jika sebuah list atau urutan berisi expression, maka Ia akan dievaluasi terlebih dahulu. \n",
    ">>> Kemudian item pertama pada urutan/list akan diassign sebagai variabel iterating_var. \n",
    ">>>>Setelahnya, blok statement akan dieksekusi, berlanjut ke item berikutnya, berulang, hingga seluruh urutan habis.\n",
    "\n",
    "> Loop berlanjut sampai kita mencapai item terakhir dalam urutan."
   ]
  },
  {
   "cell_type": "code",
   "execution_count": 2,
   "metadata": {},
   "outputs": [
    {
     "name": "stdout",
     "output_type": "stream",
     "text": [
      "huruf: B\n",
      "huruf: e\n",
      "huruf: r\n",
      "huruf: l\n",
      "huruf: i\n",
      "huruf: a\n",
      "huruf: n\n"
     ]
    }
   ],
   "source": [
    "for huruf in \"Berlian\":\n",
    "    print(f\"huruf: {huruf}\")"
   ]
  },
  {
   "cell_type": "code",
   "execution_count": 1,
   "metadata": {},
   "outputs": [
    {
     "name": "stdout",
     "output_type": "stream",
     "text": [
      "berlian\n",
      "safri\n",
      "prakoso\n"
     ]
    }
   ],
   "source": [
    "list = [\"berlian\", \"safri\", \"prakoso\"]\n",
    "for nama in list:\n",
    "    print(nama)"
   ]
  },
  {
   "cell_type": "code",
   "execution_count": 4,
   "metadata": {},
   "outputs": [
    {
     "name": "stdout",
     "output_type": "stream",
     "text": [
      "index: 0: berlian\n",
      "index: 1: safri\n",
      "index: 2: prakoso\n"
     ]
    }
   ],
   "source": [
    "# perulangan berdasarkan indeks atau range dengan memanfaatkan fungsi len()\n",
    "for index in range(len(list)):\n",
    "    print(f\"index: {index}: {list[index]}\")"
   ]
  },
  {
   "cell_type": "markdown",
   "metadata": {},
   "source": [
    "Pernyataan for...else ini dapat digunakan dengan kata kunci break untuk menjalankan blok else hanya ketika kata kunci break tidak dieksekusi. \n",
    "\n",
    " Fungsinya diutamakan pada perulangan yang bersifat pencarian - untuk memberikan jalan keluar program saat pencarian tidak ditemukan.\n",
    "\n",
    ">Anda mungkin melihat sesuatu yang menarik. Ada If dan Else, namun dalam tingkatan yang berbeda, apakah mereka terkait? \n",
    ">Saat sebuah perulangan dijalankan, fungsi if akan dievaluasi. Saat ia pernah sekali saja benar, maka else tidak akan dieksekusi. Dengan kata lain, if yang berada dalam perulangan harus selalu salah untuk memicu blok statemen else dijalankan."
   ]
  },
  {
   "cell_type": "code",
   "execution_count": 5,
   "metadata": {},
   "outputs": [
    {
     "name": "stdout",
     "output_type": "stream",
     "text": [
      "safri's score: 80\n"
     ]
    }
   ],
   "source": [
    "student_name = input(\"student name: \")\n",
    "score = {\"berlian\": 60, \"safri\": 80, \"prakoso\": 90}\n",
    "\n",
    "for name in score:\n",
    "    if name == student_name:\n",
    "        print(f\"{name}'s score: {score[name]}\")\n",
    "        break\n",
    "else:\n",
    "    print(f\"{student_name} not found\")\n",
    "\n"
   ]
  },
  {
   "cell_type": "code",
   "execution_count": 13,
   "metadata": {},
   "outputs": [
    {
     "name": "stdout",
     "output_type": "stream",
     "text": [
      "2 is a prime number\n",
      "3 is a prime number\n",
      "4 equals 2 = 2.0\n",
      "5 is a prime number\n",
      "6 equals 2 = 3.0\n",
      "7 is a prime number\n",
      "8 equals 2 = 4.0\n",
      "9 equals 3 = 3.0\n"
     ]
    }
   ],
   "source": [
    "for n in range(2, 10):\n",
    "    for x in range(2, n):\n",
    "        if n % x == 0:\n",
    "            print(n, 'equals', x, '=', n/x)\n",
    "            break\n",
    "    else:\n",
    "        print(n, 'is a prime number')"
   ]
  },
  {
   "cell_type": "code",
   "execution_count": 5,
   "metadata": {},
   "outputs": [
    {
     "name": "stdout",
     "output_type": "stream",
     "text": [
      "2 is a prime number\n",
      "3 is a prime number\n",
      "5 is a prime number\n",
      "7 is a prime number\n"
     ]
    }
   ],
   "source": [
    "for n in range(2, 10):\n",
    "    for x in range(2, n):\n",
    "        if n % x == 0:\n",
    "            break\n",
    "    else:\n",
    "        print(n, 'is a prime number')"
   ]
  },
  {
   "cell_type": "markdown",
   "metadata": {},
   "source": [
    "Potongan kode di atas melakukan pencarian faktor dari setiap bilangan antara 2 s/d 9. Namun demikian, pada saat bilangan n bernilai 2, 3, 5, 7, program tidak akan mencetak apapun. Ini karena bilangan-bilangan tersebut merupakan bilangan prima. Hal ini bisa diatasi dengan menambahkan keterangan else dan mencetak bahwa bilangan tersebut adalah bilangan prima"
   ]
  },
  {
   "cell_type": "markdown",
   "metadata": {},
   "source": [
    "---"
   ]
  },
  {
   "cell_type": "markdown",
   "metadata": {},
   "source": [
    "fungsi **break** digunakan untuk menghentikan loops ketika sampai kata \"banana\""
   ]
  },
  {
   "cell_type": "code",
   "execution_count": 2,
   "metadata": {},
   "outputs": [
    {
     "name": "stdout",
     "output_type": "stream",
     "text": [
      "apple\n",
      "banana\n"
     ]
    }
   ],
   "source": [
    "fruits = [\"apple\", \"banana\", \"cherry\"]\n",
    "for x in fruits:\n",
    "  print(x)\n",
    "  if x == \"banana\":\n",
    "    break"
   ]
  },
  {
   "cell_type": "markdown",
   "metadata": {},
   "source": [
    "fungsi **continue** digunakan untuk men-skip kata \"banana\" dan melanjutkannya ke list berikutnya"
   ]
  },
  {
   "cell_type": "code",
   "execution_count": 6,
   "metadata": {},
   "outputs": [
    {
     "name": "stdout",
     "output_type": "stream",
     "text": [
      "apple\n",
      "cherry\n"
     ]
    }
   ],
   "source": [
    "fruits = [\"apple\", \"banana\", \"cherry\"]\n",
    "for x in fruits:\n",
    "  if x == \"banana\":\n",
    "    continue\n",
    "  print(x)"
   ]
  },
  {
   "cell_type": "markdown",
   "metadata": {},
   "source": [
    "mirip dengan break sebelumnya, bedanya break dijalankan dulu sehingga alurnya 1. print apple, 2. deteksi ternyata x == \"banana\" maka *break* sehingga print(\"break\") tidak pernah dijalankan dan loops selesai"
   ]
  },
  {
   "cell_type": "code",
   "execution_count": 3,
   "metadata": {},
   "outputs": [
    {
     "name": "stdout",
     "output_type": "stream",
     "text": [
      "apple\n"
     ]
    }
   ],
   "source": [
    "fruits = [\"apple\", \"banana\", \"cherry\"]\n",
    "for x in fruits:\n",
    "  if x == \"banana\":\n",
    "    break\n",
    "  print(x)"
   ]
  },
  {
   "cell_type": "markdown",
   "metadata": {},
   "source": [
    "---\n",
    "---"
   ]
  },
  {
   "cell_type": "markdown",
   "metadata": {},
   "source": [
    "### While Loops\n",
    "**While** mengeksekusi statement selama kondisi yang diberikan terpenuhi (True). Kondisi dapat berupa expression apapun. Saat kondisi menjadi False, program akan melanjutkan ke baris setelah blok statement."
   ]
  },
  {
   "cell_type": "code",
   "execution_count": 9,
   "metadata": {},
   "outputs": [
    {
     "name": "stdout",
     "output_type": "stream",
     "text": [
      "0\n",
      "1\n",
      "2\n",
      "3\n",
      "4\n",
      "5\n",
      "6\n",
      "7\n",
      "8\n",
      "9\n",
      "selesai\n"
     ]
    }
   ],
   "source": [
    "num = 0\n",
    "while num < 10:\n",
    "    print(num)\n",
    "    num += 1\n",
    "print(\"selesai\")"
   ]
  },
  {
   "cell_type": "markdown",
   "metadata": {},
   "source": [
    "#### Else setelah While\n",
    "Berbeda dengan Else setelah For, pada statement while, blok statement else akan selalu dieksekusi saat kondisi pada while menjadi salah. "
   ]
  },
  {
   "cell_type": "code",
   "execution_count": 7,
   "metadata": {},
   "outputs": [
    {
     "name": "stdout",
     "output_type": "stream",
     "text": [
      "9\n",
      "8\n"
     ]
    }
   ],
   "source": [
    "n = 10\n",
    "while n > 0:\n",
    "    n = n - 1\n",
    "    if n == 7:\n",
    "        break\n",
    "    print(n)\n",
    "else:\n",
    "    print(\"Loop selesai\")"
   ]
  },
  {
   "cell_type": "markdown",
   "metadata": {},
   "source": [
    "pertama n = 10, eksekusi while n-1 maka hasilnya n = 9. dicek apakah n==7? ternyata tidak maka print n = 9, lakukan lagi pengulangan hingga n==7. setelah itu akan keluar dari loop dan print loop selesai"
   ]
  },
  {
   "cell_type": "markdown",
   "metadata": {},
   "source": [
    "---\n",
    "---"
   ]
  },
  {
   "cell_type": "markdown",
   "metadata": {},
   "source": [
    "### Nested Loops"
   ]
  },
  {
   "cell_type": "code",
   "execution_count": 19,
   "metadata": {},
   "outputs": [
    {
     "name": "stdout",
     "output_type": "stream",
     "text": [
      "user berlian use ventela\n",
      "user safri use ventela\n",
      "user prakoso use ventela\n",
      "user berlian use patrobas\n",
      "user safri use patrobas\n",
      "user prakoso use patrobas\n",
      "user berlian use nike\n",
      "user safri use nike\n",
      "user prakoso use nike\n",
      "user berlian use adidas\n",
      "user safri use adidas\n",
      "user prakoso use adidas\n",
      "user berlian use puma\n",
      "user safri use puma\n",
      "user prakoso use puma\n"
     ]
    }
   ],
   "source": [
    "brand = [\"ventela\", \"patrobas\", \"nike\", \"adidas\", \"puma\"]\n",
    "user = [\"berlian\", \"safri\", \"prakoso\"]\n",
    "\n",
    "for index in range(len(brand)):\n",
    "    for index2 in range(len(user)):\n",
    "        print(f\"user {user[index2]} use {brand[index]}\")"
   ]
  },
  {
   "cell_type": "code",
   "execution_count": 16,
   "metadata": {},
   "outputs": [
    {
     "name": "stdout",
     "output_type": "stream",
     "text": [
      "0 0\n",
      "0 1\n",
      "0 2\n",
      "0 3\n",
      "1 0\n",
      "1 1\n",
      "1 2\n",
      "1 3\n",
      "2 0\n",
      "2 1\n",
      "2 2\n",
      "2 3\n",
      "3 0\n",
      "3 1\n",
      "3 2\n",
      "3 3\n",
      "4 0\n",
      "4 1\n",
      "4 2\n",
      "4 3\n"
     ]
    }
   ],
   "source": [
    "for x in range(5):\n",
    "    for y in range(4):\n",
    "        print(f\"{x} {y}\")"
   ]
  },
  {
   "cell_type": "markdown",
   "metadata": {},
   "source": [
    "---\n",
    "---\n",
    "---"
   ]
  },
  {
   "cell_type": "markdown",
   "metadata": {},
   "source": [
    "## Control Loops"
   ]
  },
  {
   "cell_type": "markdown",
   "metadata": {},
   "source": [
    "### Break\n",
    "Pernyataan break menghentikan perulangan kemudian keluar, dilanjutkan dengan mengeksekusi pernyataan (statement) setelah blok perulangan."
   ]
  },
  {
   "cell_type": "code",
   "execution_count": 16,
   "metadata": {},
   "outputs": [
    {
     "name": "stdout",
     "output_type": "stream",
     "text": [
      "Huruf saat ini: D\n",
      "Huruf saat ini: i\n",
      "Huruf saat ini: c\n",
      "Huruf saat ini: o\n"
     ]
    }
   ],
   "source": [
    "for huruf in 'Dico ding':\n",
    "    if huruf == ' ':\n",
    "        break\n",
    "    print('Huruf saat ini: {}'.format(huruf))"
   ]
  },
  {
   "cell_type": "code",
   "execution_count": 24,
   "metadata": {},
   "outputs": [
    {
     "name": "stdout",
     "output_type": "stream",
     "text": [
      "*\n",
      "**\n",
      "***\n",
      "****\n",
      "*****\n",
      "******\n",
      "*******\n",
      "********\n",
      "*********\n",
      "**********"
     ]
    }
   ],
   "source": [
    "for i in range (0,10):\n",
    "    for j in range (0,10):\n",
    "        if j>i:\n",
    "            print()\n",
    "            break\n",
    "        else:\n",
    "            print(\"*\",end=\"\")"
   ]
  },
  {
   "cell_type": "markdown",
   "metadata": {},
   "source": [
    "### Continue\n",
    "continue akan membuat iterasi saat ini berhenti, kemudian melanjutkan ke iterasi berikutnya, mengabaikan pernyataan (statement) yang berada antara continue hingga akhir blok perulangan."
   ]
  },
  {
   "cell_type": "code",
   "execution_count": 25,
   "metadata": {},
   "outputs": [
    {
     "name": "stdout",
     "output_type": "stream",
     "text": [
      "Huruf saat ini: D\n",
      "Huruf saat ini: i\n",
      "Huruf saat ini: c\n",
      "Huruf saat ini: o\n",
      "Huruf saat ini: d\n",
      "Huruf saat ini: i\n",
      "Huruf saat ini: n\n",
      "Huruf saat ini: g\n"
     ]
    }
   ],
   "source": [
    "for huruf in 'Dico ding':\n",
    "    if huruf == ' ':\n",
    "        continue\n",
    "    print('Huruf saat ini: {}'.format(huruf))"
   ]
  },
  {
   "cell_type": "code",
   "execution_count": 27,
   "metadata": {},
   "outputs": [
    {
     "name": "stdout",
     "output_type": "stream",
     "text": [
      "*\n",
      "**\n",
      "***\n",
      "****\n",
      "*****\n",
      "******\n",
      "*******\n",
      "********\n",
      "*********\n",
      "**********\n"
     ]
    }
   ],
   "source": [
    "jumlah_baris = 10\n",
    "baris = 0\n",
    "bintang = 0\n",
    "while baris < jumlah_baris:\n",
    "    if (bintang) >= (baris+1):\n",
    "        print()\n",
    "        baris = baris+1\n",
    "        bintang = 0\n",
    "        continue      # Saat masuk ke if, maka bagian print * diluar if tidak akan dijalankan, langsung ulang ke while\n",
    "    print(\"*\", end=\"\")\n",
    "    bintang = bintang+1"
   ]
  },
  {
   "cell_type": "markdown",
   "metadata": {},
   "source": [
    "### Else Setelah For\n",
    "contoh program diatas 👆"
   ]
  },
  {
   "cell_type": "markdown",
   "metadata": {},
   "source": [
    "### Else Setelah While\n",
    "contoh program diatas 👆"
   ]
  },
  {
   "cell_type": "markdown",
   "metadata": {},
   "source": [
    "### Pass\n",
    "digunakan untuk mengeksekusi blok pernyataan (statement), namun tidak melakukan apapun - melanjutkan eksekusi sesuai dengan urutannya"
   ]
  },
  {
   "cell_type": "code",
   "execution_count": 25,
   "metadata": {},
   "outputs": [
    {
     "name": "stdout",
     "output_type": "stream",
     "text": [
      "1 adalah bilangan ganjil\n",
      "3 adalah bilangan ganjil\n",
      "5 adalah bilangan ganjil\n",
      "7 adalah bilangan ganjil\n",
      "9 adalah bilangan ganjil\n",
      "maka bilangan ganjil dari 1-10 adalah [1, 3, 5, 7, 9]\n"
     ]
    }
   ],
   "source": [
    "x = []\n",
    "for n in range(1, 10):\n",
    "    if n%2 == 0:\n",
    "        pass\n",
    "    else:\n",
    "        x = x + [n]\n",
    "        print(f\"{n} adalah bilangan ganjil\")\n",
    "print(f\"maka bilangan ganjil dari 1-10 adalah {' '.join(str(x).split(' '))}\")"
   ]
  },
  {
   "cell_type": "markdown",
   "metadata": {},
   "source": [
    "### List Comprehension\n",
    "membuat list dengan inline loop dan if. Ada kalanya Anda perlu membuat sebuah list baru dari operasi list sebelumnya. Misalnya membuat nilai kuadrat dari semua item dalam list:"
   ]
  },
  {
   "cell_type": "code",
   "execution_count": 27,
   "metadata": {},
   "outputs": [
    {
     "name": "stdout",
     "output_type": "stream",
     "text": [
      "[1, 4, 9, 16]\n"
     ]
    }
   ],
   "source": [
    "#Cara 1\n",
    "angka = [1, 2, 3, 4]\n",
    "pangkat = []\n",
    "for n in angka:\n",
    "  pangkat.append(n**2)\n",
    "print(pangkat)"
   ]
  },
  {
   "cell_type": "code",
   "execution_count": 28,
   "metadata": {},
   "outputs": [
    {
     "name": "stdout",
     "output_type": "stream",
     "text": [
      "[1, 4, 9, 16]\n"
     ]
    }
   ],
   "source": [
    "#Cara 2 List Comprehension\n",
    "angka = [1, 2, 3, 4]\n",
    "pangkat = [n**2 for n in angka]\n",
    "print(pangkat)"
   ]
  },
  {
   "cell_type": "code",
   "execution_count": 29,
   "metadata": {},
   "outputs": [
    {
     "name": "stdout",
     "output_type": "stream",
     "text": [
      "['d', 'i']\n"
     ]
    }
   ],
   "source": [
    "#Contoh3 menemukan item yang ada di kedua list\n",
    "list1 = ['d', 'i', 'c', 'o']\n",
    "list2 = ['d', 'i', 'n', 'g']\n",
    "duplikat = []\n",
    "for a in list1:\n",
    "  for b in list2:\n",
    "    if a == b:\n",
    "      duplikat.append(a)\n",
    "     \n",
    "print(duplikat)  # Output ['d','i']"
   ]
  },
  {
   "cell_type": "code",
   "execution_count": 30,
   "metadata": {},
   "outputs": [
    {
     "name": "stdout",
     "output_type": "stream",
     "text": [
      "['d', 'i']\n"
     ]
    }
   ],
   "source": [
    "#Contoh4 Implementasi dengan list comprehension\n",
    "list1 = ['d', 'i', 'c', 'o']\n",
    "list2 = ['d', 'i', 'n', 'g']\n",
    "duplikat = [a for a in list1 for b in list2 if a == b]\n",
    "print(duplikat) # Output: ['d','i']"
   ]
  },
  {
   "cell_type": "code",
   "execution_count": 31,
   "metadata": {},
   "outputs": [
    {
     "name": "stdout",
     "output_type": "stream",
     "text": [
      "['hello', 'world', 'in', 'python']\n"
     ]
    }
   ],
   "source": [
    "# Contoh 5 kecilkan semua huruf\n",
    "list_a = [\"Hello\", \"World\", \"In\", \"Python\"]\n",
    "small_list_a = [_.lower() for _ in list_a]\n",
    "print(small_list_a)"
   ]
  }
 ],
 "metadata": {
  "kernelspec": {
   "display_name": "Python 3.9.0 64-bit",
   "language": "python",
   "name": "python3"
  },
  "language_info": {
   "codemirror_mode": {
    "name": "ipython",
    "version": 3
   },
   "file_extension": ".py",
   "mimetype": "text/x-python",
   "name": "python",
   "nbconvert_exporter": "python",
   "pygments_lexer": "ipython3",
   "version": "3.9.0"
  },
  "orig_nbformat": 4,
  "vscode": {
   "interpreter": {
    "hash": "5addf786bcd861d1ce5006f23111f8cbb206731e5b61b0a5632ba9e0252558a8"
   }
  }
 },
 "nbformat": 4,
 "nbformat_minor": 2
}
